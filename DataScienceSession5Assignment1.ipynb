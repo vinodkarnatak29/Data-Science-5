{
 "cells": [
  {
   "cell_type": "markdown",
   "metadata": {},
   "source": [
    "Problem_1 Write a function to compute 5/0 and use try/except to catch the exceptions."
   ]
  },
  {
   "cell_type": "code",
   "execution_count": 6,
   "metadata": {},
   "outputs": [
    {
     "name": "stdout",
     "output_type": "stream",
     "text": [
      "You can't divide by zero!\n"
     ]
    }
   ],
   "source": [
    "#Solution\n",
    "def divideByZero(x,y):\n",
    "    try:\n",
    "        x/y\n",
    "    except ZeroDivisionError:\n",
    "        print(\"You can't divide by zero!\")\n",
    "\n",
    "#Call function\n",
    "divideByZero(2,0)"
   ]
  },
  {
   "cell_type": "markdown",
   "metadata": {},
   "source": [
    "Problem_2 Implement a Python program to generate all sentences where subject is in [\"Americans\",\n",
    "           \"Indians\"] and verb is in [\"Play\", \"watch\"] and the object is in [\"Baseball\",\"cricket\"].\n",
    "           \n",
    "            Hint: Subject,Verb and Object should be declared in the program as shown below.                \n",
    "            subjects=[\"Americans \",\"Indians\"]\n",
    "            verbs=[\"play\",\"watch\"]\n",
    "            objects=[\"Baseball\",\"Cricket\"]\n",
    "       \n",
    "    Exptected Output  :                       \n",
    "                       Americans play Baseball.\n",
    "                       Americans play Cricket.\n",
    "                       Americans watch Baseball.\n",
    "                       Americans watch Cricket.\n",
    "                       Indians play Baseball.\n",
    "                       Indians play Cricket.\n",
    "                       Indians watch Baseball.\n",
    "                       Indians watch Cricket."
   ]
  },
  {
   "cell_type": "code",
   "execution_count": 7,
   "metadata": {},
   "outputs": [
    {
     "name": "stdout",
     "output_type": "stream",
     "text": [
      "Americans play Baseball.\n",
      "Americans play Cricket.\n",
      "Americans watch Baseball.\n",
      "Americans watch Cricket.\n",
      "Indians play Baseball.\n",
      "Indians play Cricket.\n",
      "Indians watch Baseball.\n",
      "Indians watch Cricket.\n"
     ]
    }
   ],
   "source": [
    "#Solution:\n",
    "\n",
    "subject=[\"Americans\",\"Indians\"]\n",
    "verb=[\"play\",\"watch\"]\n",
    "objects=[\"Baseball\",\"Cricket\"]\n",
    "\n",
    "# List Comprehension @result variable store complete list\n",
    "result = [(sub+' '+vrb+' '+obj+\".\") for sub in subject for vrb in verb for obj in objects]\n",
    "\n",
    "for item in result:    \n",
    "    print(item)"
   ]
  },
  {
   "cell_type": "code",
   "execution_count": null,
   "metadata": {},
   "outputs": [],
   "source": []
  }
 ],
 "metadata": {
  "kernelspec": {
   "display_name": "Python 3",
   "language": "python",
   "name": "python3"
  },
  "language_info": {
   "codemirror_mode": {
    "name": "ipython",
    "version": 3
   },
   "file_extension": ".py",
   "mimetype": "text/x-python",
   "name": "python",
   "nbconvert_exporter": "python",
   "pygments_lexer": "ipython3",
   "version": "3.6.5"
  }
 },
 "nbformat": 4,
 "nbformat_minor": 2
}
